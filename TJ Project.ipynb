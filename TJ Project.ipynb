{
 "cells": [
  {
   "cell_type": "code",
   "execution_count": 1,
   "metadata": {},
   "outputs": [],
   "source": [
    "import numpy as np\n",
    "import matplotlib.pyplot as mlt\n",
    "import pandas as pd"
   ]
  },
  {
   "cell_type": "code",
   "execution_count": 249,
   "metadata": {},
   "outputs": [
    {
     "data": {
      "text/plain": [
       "array([[15.    , 41.197 ],\n",
       "       [42.197 , 43.1684],\n",
       "       [27.    , 90.    ]])"
      ]
     },
     "execution_count": 249,
     "metadata": {},
     "output_type": "execute_result"
    }
   ],
   "source": [
    "cor=100*np.random.random([3,2])\n",
    "#cor=np.array([[50,32],[18,35],[27,90]])\n",
    "cor=np.array([[15,41.197],[42.197,43.1684],[27,90]])\n",
    "\n",
    "cor"
   ]
  },
  {
   "cell_type": "code",
   "execution_count": 250,
   "metadata": {},
   "outputs": [
    {
     "data": {
      "text/plain": [
       "27.268355780281293"
      ]
     },
     "execution_count": 250,
     "metadata": {},
     "output_type": "execute_result"
    }
   ],
   "source": [
    "((cor[0,0]-cor[1,0])**2+(cor[0,1]-cor[1,1])**2)**0.5"
   ]
  },
  {
   "cell_type": "code",
   "execution_count": 251,
   "metadata": {},
   "outputs": [],
   "source": [
    "r=10\n",
    "qa=(cor[0,0]-cor[1,0])**2-4*r**2\n",
    "qb=-2*(cor[0,0]-cor[1,0])*(cor[0,1]-cor[1,1])\n",
    "qc=(cor[0,1]-cor[1,1])**2-4*r**2"
   ]
  },
  {
   "cell_type": "code",
   "execution_count": 252,
   "metadata": {},
   "outputs": [
    {
     "data": {
      "text/plain": [
       "(-0.9335138536968418, 1.2492031464563003)"
      ]
     },
     "execution_count": 252,
     "metadata": {},
     "output_type": "execute_result"
    }
   ],
   "source": [
    "m1=(-qb-(qb**2-4*qa*qc)**0.5)/(2*qa)\n",
    "m2=(-qb+(qb**2-4*qa*qc)**0.5)/(2*qa)\n",
    "m1,m2"
   ]
  },
  {
   "cell_type": "code",
   "execution_count": 253,
   "metadata": {},
   "outputs": [
    {
     "data": {
      "text/plain": [
       "(68.87979594494914, 6.4573638160694955)"
      ]
     },
     "execution_count": 253,
     "metadata": {},
     "output_type": "execute_result"
    }
   ],
   "source": [
    "mid_x=(cor[0,0]+cor[1,0])/2\n",
    "mid_y=(cor[0,1]+cor[1,1])/2\n",
    "\n",
    "c1=mid_y-m1*mid_x\n",
    "c2=mid_y-m2*mid_x\n",
    "c1,c2"
   ]
  },
  {
   "cell_type": "code",
   "execution_count": 254,
   "metadata": {},
   "outputs": [
    {
     "data": {
      "text/plain": [
       "[[0, 68.87979594494914],\n",
       " [73.78551016910545, 0],\n",
       " [0, 6.4573638160694955],\n",
       " [74.88184483787867, 100]]"
      ]
     },
     "execution_count": 254,
     "metadata": {},
     "output_type": "execute_result"
    }
   ],
   "source": [
    "#line1:y=m1*x+c1\n",
    "p=list()\n",
    "\n",
    "l=[np.array([m1*0+c1,m1*100+c1,-c1/m1,(100-c1)/m1]),np.array([m2*0+c2,m2*100+c2,-c2/m2,(100-c2)/m2])]\n",
    "\n",
    "for j in range(2):\n",
    "    for i in np.where((l[j]>=0)&(l[j]<=100))[0]:\n",
    "        if i==0 or i==1:\n",
    "            p.append([i*100,l[j][i]])\n",
    "        if i==2 or i==3:\n",
    "            p.append([l[j][i],(i-2)*100])\n",
    "p"
   ]
  },
  {
   "cell_type": "code",
   "execution_count": 255,
   "metadata": {},
   "outputs": [
    {
     "data": {
      "text/plain": [
       "(-27.197000000000003, -1.9713999999999956, -860.9523792799998)"
      ]
     },
     "execution_count": 255,
     "metadata": {},
     "output_type": "execute_result"
    }
   ],
   "source": [
    "PBa=cor[0,0]-cor[1,0]\n",
    "PBb=cor[0,1]-cor[1,1]\n",
    "PBc=(cor[0,0]-cor[1,0])*mid_x+(cor[0,1]-cor[1,1])*mid_y\n",
    "\n",
    "#ax+by=c\n",
    "PBa,PBb,PBc"
   ]
  },
  {
   "cell_type": "code",
   "execution_count": 256,
   "metadata": {},
   "outputs": [
    {
     "data": {
      "text/plain": [
       "([[0, 68.87979594494914], [0, 6.4573638160694955]],\n",
       " [[73.78551016910545, 0], [74.88184483787867, 100]])"
      ]
     },
     "execution_count": 256,
     "metadata": {},
     "output_type": "execute_result"
    }
   ],
   "source": [
    "s1=[]\n",
    "s2=[]\n",
    "for i in range(len(p)):\n",
    "    #print(PBa*p[i][0]+PBb*p[i][1])\n",
    "    if (PBa*p[i][0]+PBb*p[i][1]-PBc)*(PBa*cor[0,0]+PBb*cor[0,1]-PBc)>0:\n",
    "        s1.append(p[i]) \n",
    "    else:\n",
    "        s2.append(p[i])\n",
    "s1,s2"
   ]
  },
  {
   "cell_type": "code",
   "execution_count": 257,
   "metadata": {},
   "outputs": [],
   "source": [
    "c_p=[[0,0],[100,0],[100,100],[0,100]]"
   ]
  },
  {
   "cell_type": "code",
   "execution_count": 258,
   "metadata": {},
   "outputs": [],
   "source": [
    "sc1=[]\n",
    "sc2=[]\n",
    "for i in range(len(c_p)):\n",
    "    if (PBa*c_p[i][0]+PBb*c_p[i][1]-PBc)*(PBa*cor[0,0]+PBb*cor[0,1]-PBc)>0:\n",
    "        sc1.append(c_p[i]) \n",
    "    else:\n",
    "        sc2.append(c_p[i])"
   ]
  },
  {
   "cell_type": "code",
   "execution_count": 259,
   "metadata": {},
   "outputs": [
    {
     "data": {
      "text/plain": [
       "([], [[100, 0], [100, 100]])"
      ]
     },
     "execution_count": 259,
     "metadata": {},
     "output_type": "execute_result"
    }
   ],
   "source": [
    "sc11=[]\n",
    "sc111=[]\n",
    "for i in range(len(sc1)):\n",
    "    if (m1*sc1[i][0]+c1-sc1[i][1])*(m1*cor[0,0]+c1-cor[0,1])>0:\n",
    "        sc11.append(sc1[i]) \n",
    "for i in range(len(sc11)):\n",
    "    if (m2*sc11[i][0]+c2-sc11[i][1])*(m2*cor[0,0]+c2-cor[0,1])>0:\n",
    "        sc111.append(sc11[i]) \n",
    "\n",
    "sc22=[]\n",
    "sc222=[]\n",
    "for i in range(len(sc2)):\n",
    "    if (m1*sc2[i][0]+c1-sc2[i][1])*(m1*cor[1,0]+c1-cor[1,1])>0:\n",
    "        sc22.append(sc2[i]) \n",
    "for i in range(len(sc22)):\n",
    "    if (m2*sc22[i][0]+c2-sc22[i][1])*(m2*cor[1,0]+c2-cor[1,1])>0:\n",
    "        sc222.append(sc22[i]) \n",
    "\n",
    "sc111,sc222"
   ]
  },
  {
   "cell_type": "code",
   "execution_count": 260,
   "metadata": {},
   "outputs": [
    {
     "data": {
      "text/plain": [
       "(28.5985, 42.1827)"
      ]
     },
     "execution_count": 260,
     "metadata": {},
     "output_type": "execute_result"
    }
   ],
   "source": [
    "mid_x,mid_y"
   ]
  },
  {
   "cell_type": "code",
   "execution_count": 261,
   "metadata": {},
   "outputs": [
    {
     "data": {
      "text/plain": [
       "(892.5939626188823, 4849.105936322297, 5741.699898941179)"
      ]
     },
     "execution_count": 261,
     "metadata": {},
     "output_type": "execute_result"
    }
   ],
   "source": [
    "area1=[]\n",
    "ans1=0\n",
    "\n",
    "area1.append(s1[0])\n",
    "area1.append([mid_x,mid_y])\n",
    "area1.append(s1[1])\n",
    "\n",
    "sc1111=np.array(sc111)\n",
    "for i in range(len(sc111)):\n",
    "    area1.append(sc1111[np.where((sc1111[:,0]==area1[-1][0])|(sc1111[:,1]==area1[-1][1]))].tolist()[0])\n",
    "    sc2222=np.delete(sc1111,np.where((sc1111[:,0]==area1[-2][0])|(sc1111[:,1]==area1[-2][1])),0)\n",
    "area1.append(s1[0])\n",
    "\n",
    "for i in range(len(area1)-1):\n",
    "    ans1=ans1+area1[i][0]*area1[i+1][1]-area1[i][1]*area1[i+1][0]\n",
    "ans1=1/2*abs(ans1)\n",
    "\n",
    "#---------------------------------------------------\n",
    "area2=[]\n",
    "ans2=0\n",
    "\n",
    "area2.append(s2[0])\n",
    "area2.append([mid_x,mid_y])\n",
    "area2.append(s2[1])\n",
    "\n",
    "sc2222=np.array(sc222)\n",
    "for i in range(len(sc222)):\n",
    "    area2.append(sc2222[np.where((sc2222[:,0]==area2[-1][0])|(sc2222[:,1]==area2[-1][1]))].tolist()[0])\n",
    "    sc2222=np.delete(sc2222,np.where((sc2222[:,0]==area2[-2][0])|(sc2222[:,1]==area2[-2][1])),0)\n",
    "area2.append(s2[0])\n",
    "\n",
    "for i in range(len(area2)-1):\n",
    "    ans2=ans2+area2[i][0]*area2[i+1][1]-area2[i][1]*area2[i+1][0]\n",
    "ans2=1/2*abs(ans2)\n",
    "\n",
    "\n",
    "ans1,ans2,ans1+ans2"
   ]
  },
  {
   "cell_type": "code",
   "execution_count": null,
   "metadata": {},
   "outputs": [],
   "source": []
  },
  {
   "cell_type": "code",
   "execution_count": null,
   "metadata": {},
   "outputs": [],
   "source": []
  }
 ],
 "metadata": {
  "kernelspec": {
   "display_name": "Python 3",
   "language": "python",
   "name": "python3"
  },
  "language_info": {
   "codemirror_mode": {
    "name": "ipython",
    "version": 3
   },
   "file_extension": ".py",
   "mimetype": "text/x-python",
   "name": "python",
   "nbconvert_exporter": "python",
   "pygments_lexer": "ipython3",
   "version": "3.8.3"
  }
 },
 "nbformat": 4,
 "nbformat_minor": 4
}
